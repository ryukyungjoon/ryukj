{
 "cells": [
  {
   "cell_type": "code",
   "execution_count": 1,
   "metadata": {},
   "outputs": [
    {
     "ename": "ModuleNotFoundError",
     "evalue": "No module named '__main__.Three_Normalization'; '__main__' is not a package",
     "output_type": "error",
     "traceback": [
      "\u001b[1;31m---------------------------------------------------------------------------\u001b[0m",
      "\u001b[1;31mModuleNotFoundError\u001b[0m                       Traceback (most recent call last)",
      "\u001b[1;32m<ipython-input-1-d9a4bb2aa85e>\u001b[0m in \u001b[0;36m<module>\u001b[1;34m\u001b[0m\n\u001b[1;32m----> 1\u001b[1;33m \u001b[1;32mfrom\u001b[0m \u001b[1;33m.\u001b[0m\u001b[0mThree_Normalization\u001b[0m\u001b[1;33m.\u001b[0m\u001b[0mData_cleaning\u001b[0m \u001b[1;32mimport\u001b[0m \u001b[0mCleaning\u001b[0m \u001b[1;32mas\u001b[0m \u001b[0mcl\u001b[0m\u001b[1;33m\u001b[0m\u001b[1;33m\u001b[0m\u001b[0m\n\u001b[0m\u001b[0;32m      2\u001b[0m \u001b[1;32mfrom\u001b[0m \u001b[1;33m.\u001b[0m\u001b[0mThree_Normalization\u001b[0m\u001b[1;33m.\u001b[0m\u001b[0mSemi_balancing\u001b[0m \u001b[1;32mimport\u001b[0m \u001b[0mSemi_balancing\u001b[0m \u001b[1;32mas\u001b[0m \u001b[0msb\u001b[0m\u001b[1;33m\u001b[0m\u001b[1;33m\u001b[0m\u001b[0m\n\u001b[0;32m      3\u001b[0m \u001b[1;32mfrom\u001b[0m \u001b[1;33m.\u001b[0m\u001b[0mThree_Normalization\u001b[0m\u001b[1;33m.\u001b[0m\u001b[0mFeature_Extraction\u001b[0m \u001b[1;32mimport\u001b[0m \u001b[0mFeature_Extraction\u001b[0m \u001b[1;32mas\u001b[0m \u001b[0mfe\u001b[0m\u001b[1;33m\u001b[0m\u001b[1;33m\u001b[0m\u001b[0m\n\u001b[0;32m      4\u001b[0m \u001b[1;32mfrom\u001b[0m \u001b[1;33m.\u001b[0m\u001b[0mThree_Normalization\u001b[0m\u001b[1;33m.\u001b[0m\u001b[0mData_Normalization\u001b[0m \u001b[1;32mimport\u001b[0m \u001b[0mData_Normalization\u001b[0m \u001b[1;32mas\u001b[0m \u001b[0mdn\u001b[0m\u001b[1;33m\u001b[0m\u001b[1;33m\u001b[0m\u001b[0m\n\u001b[0;32m      5\u001b[0m \u001b[1;32mfrom\u001b[0m \u001b[1;33m.\u001b[0m\u001b[0mThree_Normalization\u001b[0m\u001b[1;33m.\u001b[0m\u001b[0mData_split\u001b[0m \u001b[1;32mimport\u001b[0m \u001b[0mData_split\u001b[0m \u001b[1;32mas\u001b[0m \u001b[0mds\u001b[0m\u001b[1;33m\u001b[0m\u001b[1;33m\u001b[0m\u001b[0m\n",
      "\u001b[1;31mModuleNotFoundError\u001b[0m: No module named '__main__.Three_Normalization'; '__main__' is not a package"
     ]
    }
   ],
   "source": [
    "from .Three_Normalization.Data_cleaning import Cleaning as cl\n",
    "from .Three_Normalization.Semi_balancing import Semi_balancing as sb\n",
    "from .Three_Normalization.Feature_Extraction import Feature_Extraction as fe\n",
    "from .Three_Normalization.Data_Normalization import Data_Normalization as dn\n",
    "from .Three_Normalization.Data_split import Data_split as ds\n",
    "from .Three_Normalization.Train_model import Train_model as tm\n",
    "from .Three_Normalization.Train_model import DNN as dnn\n",
    "from .Three_Normalization.Drawing import Drawing as dw\n",
    "\n",
    "from sklearn.metrics import classification_report\n",
    "\n",
    "import pandas as pd\n",
    "import numpy as np\n",
    "\n",
    "class Main:\n",
    "    if __name__ == \"__main__\":\n",
    "        features = ['Destination Port', 'Flow Duration', 'Total Fwd Packets', 'Total Backward Packets', 'Total Length of Fwd Packets', 'Total Length of Bwd Packets', 'Fwd Packet Length Max', 'Fwd Packet Length Min', 'Fwd Packet Length Mean', 'Fwd Packet Length Std', 'Bwd Packet Length Max', 'Bwd Packet Length Min', 'Bwd Packet Length Mean', 'Bwd Packet Length Std', 'Flow Bytes/s', 'Flow Packets/s', 'Flow IAT Mean', 'Flow IAT Std', 'Flow IAT Max', 'Flow IAT Min', 'Fwd IAT Total', 'Fwd IAT Mean', 'Fwd IAT Std', 'Fwd IAT Max', 'Fwd IAT Min', 'Bwd IAT Total', 'Bwd IAT Mean', 'Bwd IAT Std', 'Bwd IAT Max', 'Bwd IAT Min', 'Fwd PSH Flags', 'Bwd PSH Flags', 'Fwd URG Flags', 'Bwd URG Flags', 'Fwd Header Length', 'Bwd Header Length', 'Fwd Packets/s', 'Bwd Packets/s', 'Min Packet Length', 'Max Packet Length', 'Packet Length Mean', 'Packet Length Std', 'Packet Length Variance', 'FIN Flag Count', 'SYN Flag Count', 'RST Flag Count', 'PSH Flag Count', 'ACK Flag Count', 'URG Flag Count', 'CWE Flag Count', 'ECE Flag Count', 'Down/Up Ratio', 'Average Packet Size', 'Avg Fwd Segment Size', 'Avg Bwd Segment Size', 'Fwd Header Length', 'Fwd Avg Bytes/Bulk', 'Fwd Avg Packets/Bulk', 'Fwd Avg Bulk Rate', 'Bwd Avg Bytes/Bulk', 'Bwd Avg Packets/Bulk', 'Bwd Avg Bulk Rate', 'Subflow Fwd Packets', 'Subflow Fwd Bytes', 'Subflow Bwd Packets', 'Subflow Bwd Bytes', 'Init_Win_bytes_forward', 'Init_Win_bytes_backward', 'act_data_pkt_fwd', 'min_seg_size_forward', 'Active Mean', 'Active Std', 'Active Max', 'Active Min', 'Idle Mean', 'Idle Std', 'Idle Max', 'Idle Min', 'Label']\n",
    "        data_loc = \"../dataset/fin_dataset/\"\n",
    "        data_format = \".csv\"\n",
    "        data_file = \"5. combine_dataset\"\n",
    "\n",
    "        print(\"Data Loading...\")\n",
    "        data = pd.read_csv(data_loc + data_file + data_format, sep=',', dtype='unicode')\n",
    "\n",
    "        data, data_Label = cl.data_cleaning(data)\n",
    "        classes_y = np.unique(data_Label)\n",
    "\n",
    "        new_data = sb.sampling_1(data, data_Label, features)\n",
    "        # new_data = sb.sampling_2(data, data_Label, features)\n",
    "        new_data = pd.DataFrame(new_data)\n",
    "        print(new_data)\n",
    "        bal_data_Label, bal_data = new_data['Label'], new_data.drop('Label', 1)\n",
    "\n",
    "        fe = fe.feature_extraction_1(bal_data, bal_data_Label, features)\n",
    "\n",
    "        normalization_type = ['mms', 'std', 'qnt']\n",
    "\n",
    "        for norm in range(0, len(normalization_type)):\n",
    "            norm_data = dn.normalizations(fe, normalization_type[norm])\n",
    "            train_X, train_Y, test_X, test_Y, raw_encoded, raw_cat = ds.data_split(norm_data)\n",
    "            performance_test = dnn.dnn_model(train_X, train_Y, test_X, test_Y)\n",
    "            print('Test Loss and Accuracy ->', performance_test)\n",
    "\n",
    "        # for norm in range(0, len(normalization_type)):\n",
    "        #     norm_data = dn.normalizations(fe, normalization_type[norm])\n",
    "        #     train_X, train_Y, test_X, test_Y, raw_encoded, raw_cat = ds.data_split(norm_data)\n",
    "        #     use_model_cross_val, use_model_score, use_model_confusion_matrix = tm.train_model(train_X, train_Y,\n",
    "        #                                                                                       classes_y, test_X,\n",
    "        #                                                                                       test_Y)\n",
    "        #     report = classification_report(test_Y, use_model_cross_val, target_names=raw_cat)\n",
    "        #     # 그래프 그리기(confusion matrix, histogram)\n",
    "        #     dw.print_confusion_matrix(use_model_confusion_matrix, classes_y)\n",
    "        #     # dw.print_score_graph(use_model_score, index=classes_y, columns=classes_y)\n",
    "        #\n",
    "        #     print(str(report))"
   ]
  },
  {
   "cell_type": "code",
   "execution_count": null,
   "metadata": {},
   "outputs": [],
   "source": []
  }
 ],
 "metadata": {
  "kernelspec": {
   "display_name": "Python 3",
   "language": "python",
   "name": "python3"
  },
  "language_info": {
   "codemirror_mode": {
    "name": "ipython",
    "version": 3
   },
   "file_extension": ".py",
   "mimetype": "text/x-python",
   "name": "python",
   "nbconvert_exporter": "python",
   "pygments_lexer": "ipython3",
   "version": "3.6.8"
  }
 },
 "nbformat": 4,
 "nbformat_minor": 2
}
