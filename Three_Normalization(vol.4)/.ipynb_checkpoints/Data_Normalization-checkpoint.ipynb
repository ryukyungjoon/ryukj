{
 "cells": [
  {
   "cell_type": "code",
   "execution_count": 1,
   "metadata": {},
   "outputs": [],
   "source": [
    "from sklearn.preprocessing import minmax_scale, StandardScaler, quantile_transform\n",
    "\n",
    "import pandas as pd\n",
    "\n",
    "class Data_Normalization:\n",
    "    def normalizations(fe_data, normalization_type):\n",
    "        print('Data Normalizing...')\n",
    "        fe_data1 = pd.DataFrame(fe_data)\n",
    "        # fe_data1 = fe_data1.rename(columns={'Fwd Header Length.1': 'Fwd Header Length'})\n",
    "        y, x = fe_data1['Label'], fe_data1.drop('Label', 1)\n",
    "        x.dropna(axis=0)\n",
    "        x = x[(x.T != 0).any()]\n",
    "        remain_features = fe_data1.head(n=0)\n",
    "\n",
    "        if normalization_type == 'mms':\n",
    "            mms = minmax_scale(x, feature_range=(0, 255))\n",
    "            print(\"mms: \")\n",
    "            mms = pd.DataFrame(mms)\n",
    "            y = pd.DataFrame(y)\n",
    "            norm_set = mms[(mms.T != 0).any()]  # Remove Zero records\n",
    "            norm_set = pd.concat([norm_set, y], axis=1)\n",
    "\n",
    "        if normalization_type == 'std':\n",
    "            std = StandardScaler()\n",
    "            print(\"std: \")\n",
    "            x_scale = std.fit_transform(x)\n",
    "            x_scale = pd.DataFrame(x_scale)\n",
    "            y = pd.DataFrame(y)\n",
    "            norm_set = x_scale[(x_scale.T != 0).any()]  # Remove Zero records\n",
    "            norm_set = pd.concat([norm_set, y], axis=1)\n",
    "\n",
    "        if normalization_type == 'qnt':\n",
    "            qnt = quantile_transform(x, n_quantiles=15, subsample=832373)\n",
    "            print(\"qnt: \")\n",
    "            y = pd.DataFrame(y)\n",
    "            qnt = pd.DataFrame(qnt)\n",
    "            norm_set = qnt[(qnt.T != 0).any()]  # Remove Zero records\n",
    "            print(type(norm_set))\n",
    "            norm_set = pd.concat([norm_set, y], axis=1)\n",
    "\n",
    "        print(norm_set)\n",
    "\n",
    "        norm_set.dropna(axis=1)\n",
    "        norm_set.to_csv(\"../dataset/fin_dataset/\"+normalization_type+\"4.csv\", header=list(remain_features), index=False)\n",
    "\n",
    "        return norm_set"
   ]
  },
  {
   "cell_type": "code",
   "execution_count": null,
   "metadata": {},
   "outputs": [],
   "source": []
  }
 ],
 "metadata": {
  "kernelspec": {
   "display_name": "Python 3",
   "language": "python",
   "name": "python3"
  },
  "language_info": {
   "codemirror_mode": {
    "name": "ipython",
    "version": 3
   },
   "file_extension": ".py",
   "mimetype": "text/x-python",
   "name": "python",
   "nbconvert_exporter": "python",
   "pygments_lexer": "ipython3",
   "version": "3.6.8"
  }
 },
 "nbformat": 4,
 "nbformat_minor": 2
}
