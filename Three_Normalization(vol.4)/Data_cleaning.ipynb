{
 "cells": [
  {
   "cell_type": "code",
   "execution_count": 1,
   "metadata": {},
   "outputs": [],
   "source": [
    "import numpy as np\n",
    "\n",
    "class Cleaning():\n",
    "    def data_cleaning(data):\n",
    "        print(\"Data Cleaning...\")\n",
    "        data1 = data.dropna(axis=0, how='any')  # Remove Null values records\n",
    "        y, x = data1['Label'], data1.drop('Label', 1)\n",
    "        df = x.astype('float')  # dataFrame 타입 변환 [object->float64]\n",
    "        df = df.replace(np.inf, np.nan)  # inf 값을 nan 값으로 replace\n",
    "        df_max = df.max().max()\n",
    "        x = df.replace(np.nan, df_max)  # inf 값을 제외한 값 중, 가장 큰 값인 655453030.0을 inf값 대신 넣어준다.\n",
    "\n",
    "        return x, y"
   ]
  },
  {
   "cell_type": "code",
   "execution_count": null,
   "metadata": {},
   "outputs": [],
   "source": []
  }
 ],
 "metadata": {
  "kernelspec": {
   "display_name": "Python 3",
   "language": "python",
   "name": "python3"
  },
  "language_info": {
   "codemirror_mode": {
    "name": "ipython",
    "version": 3
   },
   "file_extension": ".py",
   "mimetype": "text/x-python",
   "name": "python",
   "nbconvert_exporter": "python",
   "pygments_lexer": "ipython3",
   "version": "3.6.8"
  }
 },
 "nbformat": 4,
 "nbformat_minor": 2
}
