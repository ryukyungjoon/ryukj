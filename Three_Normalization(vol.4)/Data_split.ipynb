{
 "cells": [
  {
   "cell_type": "code",
   "execution_count": 2,
   "metadata": {},
   "outputs": [],
   "source": [
    "from sklearn.model_selection import train_test_split\n",
    "\n",
    "class Data_split:\n",
    "    def data_split(split_data):\n",
    "        print(\"[train_set] <=> [test_set]\")\n",
    "\n",
    "        train_set, test_set = train_test_split(split_data, test_size=0.3)\n",
    "\n",
    "        train_Y, train_X = train_set['Label'], train_set.drop('Label', 1)\n",
    "        test_Y, test_X = test_set['Label'], test_set.drop('Label', 1)\n",
    "        raw_encoded, raw_cat = test_set[\"Label\"].factorize()\n",
    "\n",
    "        return train_X, train_Y, test_X, test_Y, raw_encoded, raw_cat"
   ]
  },
  {
   "cell_type": "code",
   "execution_count": null,
   "metadata": {},
   "outputs": [],
   "source": []
  }
 ],
 "metadata": {
  "kernelspec": {
   "display_name": "Python 3",
   "language": "python",
   "name": "python3"
  },
  "language_info": {
   "codemirror_mode": {
    "name": "ipython",
    "version": 3
   },
   "file_extension": ".py",
   "mimetype": "text/x-python",
   "name": "python",
   "nbconvert_exporter": "python",
   "pygments_lexer": "ipython3",
   "version": "3.6.8"
  }
 },
 "nbformat": 4,
 "nbformat_minor": 2
}
