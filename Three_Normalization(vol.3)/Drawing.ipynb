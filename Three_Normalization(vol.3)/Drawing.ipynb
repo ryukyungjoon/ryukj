{
 "cells": [
  {
   "cell_type": "code",
   "execution_count": 1,
   "metadata": {},
   "outputs": [],
   "source": [
    "import pandas as pd\n",
    "import matplotlib.pyplot as plt\n",
    "import seaborn as sns\n",
    "\n",
    "class Drawing:\n",
    "    def print_confusion_matrix(confusion_matrix, class_names, figsize=(10, 10), fontsize=14):\n",
    "        df_cm = pd.DataFrame(\n",
    "            confusion_matrix, index=class_names, columns=class_names,)\n",
    "        plt.figure(figsize=figsize)\n",
    "        try:\n",
    "            heatmap = sns.heatmap(df_cm, annot=True, fmt=\"d\")\n",
    "        except ValueError:\n",
    "            raise ValueError(\"Confusion matrix values must be integers.\")\n",
    "        heatmap.yaxis.set_ticklabels(heatmap.yaxis.get_ticklabels(), rotation=0, ha='right', fontsize=fontsize)\n",
    "        heatmap.xaxis.set_ticklabels(heatmap.xaxis.get_ticklabels(), rotation=45, ha='right', fontsize=fontsize)\n",
    "        plt.ylabel('True label')\n",
    "        plt.xlabel('Predicted label')\n",
    "        plt.show()\n",
    "\n",
    "    def print_score_graph(model_score, index, columns, figsize=(10, 10)):\n",
    "        df_sg = pd.DataFrame(\n",
    "            model_score, index=index, columns=columns,)\n",
    "        fig, ax = plt.subplot(1, 2)\n",
    "        df_sg.plot(kind='bar', ax=ax[0])\n",
    "        plt.figure(figsize=figsize)\n",
    "        plt.ylabel(\"score\")\n",
    "        plt.xlabel(\"\")\n",
    "        plt.show()\n"
   ]
  },
  {
   "cell_type": "code",
   "execution_count": null,
   "metadata": {},
   "outputs": [],
   "source": []
  }
 ],
 "metadata": {
  "kernelspec": {
   "display_name": "Python 3",
   "language": "python",
   "name": "python3"
  },
  "language_info": {
   "codemirror_mode": {
    "name": "ipython",
    "version": 3
   },
   "file_extension": ".py",
   "mimetype": "text/x-python",
   "name": "python",
   "nbconvert_exporter": "python",
   "pygments_lexer": "ipython3",
   "version": "3.6.8"
  }
 },
 "nbformat": 4,
 "nbformat_minor": 2
}
